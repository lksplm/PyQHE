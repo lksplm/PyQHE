{
 "cells": [
  {
   "cell_type": "code",
   "execution_count": 3,
   "metadata": {},
   "outputs": [],
   "source": [
    "from quspin.operators import hamiltonian # Hamiltonians and operators\n",
    "from quspin.basis import spinless_fermion_basis_1d, tensor_basis, spinful_fermion_basis_1d\n",
    "from quspin.operators import quantum_operator\n",
    "\n",
    "import matplotlib.pyplot as plt\n",
    "import numpy as np"
   ]
  },
  {
   "cell_type": "code",
   "execution_count": 4,
   "metadata": {},
   "outputs": [],
   "source": [
    "basis_qs = spinful_fermion_basis_1d(4, Nf=(2, 2))"
   ]
  },
  {
   "cell_type": "code",
   "execution_count": 21,
   "metadata": {},
   "outputs": [],
   "source": [
    "s_up = \"\".join(\"1\" for i in range(2)) + \"\".join(\"0\" for i in range(2))\n",
    "s_down = \"\".join(\"0\" for i in range(2)) + \"\".join(\"1\" for i in range(2))\n",
    "j = basis_qs.index(s_up,s_down)"
   ]
  },
  {
   "cell_type": "code",
   "execution_count": 9,
   "metadata": {},
   "outputs": [],
   "source": [
    "v = np.array([1,1,0,0,1,1,0,0])"
   ]
  },
  {
   "cell_type": "code",
   "execution_count": 17,
   "metadata": {},
   "outputs": [
    {
     "data": {
      "text/plain": [
       "'1100'"
      ]
     },
     "execution_count": 17,
     "metadata": {},
     "output_type": "execute_result"
    }
   ],
   "source": [
    "\"\".join(map(str, v[0:4].tolist()))"
   ]
  },
  {
   "cell_type": "code",
   "execution_count": 16,
   "metadata": {},
   "outputs": [
    {
     "data": {
      "text/plain": [
       "[1, 1, 0, 0]"
      ]
     },
     "execution_count": 16,
     "metadata": {},
     "output_type": "execute_result"
    }
   ],
   "source": [
    "v[0:4].tolist()"
   ]
  },
  {
   "cell_type": "code",
   "execution_count": 22,
   "metadata": {},
   "outputs": [
    {
     "data": {
      "text/plain": [
       "5"
      ]
     },
     "execution_count": 22,
     "metadata": {},
     "output_type": "execute_result"
    }
   ],
   "source": [
    "int(j)"
   ]
  },
  {
   "cell_type": "code",
   "execution_count": 23,
   "metadata": {},
   "outputs": [],
   "source": [
    "o =[0, 1, 6, 12, 7, 18, 3, 2, 4, 19, 9, 24, 13, 8, 21, 20, 25, 14, 15, 10, 5, 30, 16, 31, 11, 22, 26, 27, 32, 33, 17, 28, 23, 34, 29, 35]"
   ]
  },
  {
   "cell_type": "code",
   "execution_count": 27,
   "metadata": {},
   "outputs": [
    {
     "data": {
      "text/plain": [
       "[(0, 0),\n",
       " (1, 1),\n",
       " (2, 7),\n",
       " (3, 6),\n",
       " (4, 8),\n",
       " (5, 20),\n",
       " (6, 2),\n",
       " (7, 4),\n",
       " (8, 13),\n",
       " (9, 10),\n",
       " (10, 19),\n",
       " (11, 24),\n",
       " (12, 3),\n",
       " (13, 12),\n",
       " (14, 17),\n",
       " (15, 18),\n",
       " (16, 22),\n",
       " (17, 30),\n",
       " (18, 5),\n",
       " (19, 9),\n",
       " (20, 15),\n",
       " (21, 14),\n",
       " (22, 25),\n",
       " (23, 32),\n",
       " (24, 11),\n",
       " (25, 16),\n",
       " (26, 26),\n",
       " (27, 27),\n",
       " (28, 31),\n",
       " (29, 34),\n",
       " (30, 21),\n",
       " (31, 23),\n",
       " (32, 28),\n",
       " (33, 29),\n",
       " (34, 33),\n",
       " (35, 35)]"
      ]
     },
     "execution_count": 27,
     "metadata": {},
     "output_type": "execute_result"
    }
   ],
   "source": [
    "sorted(zip(o, range(36)))"
   ]
  },
  {
   "cell_type": "code",
   "execution_count": 28,
   "metadata": {},
   "outputs": [
    {
     "data": {
      "text/plain": [
       "array([ 0,  1,  7,  6,  8, 20,  2,  4, 13, 10, 19, 24,  3, 12, 17, 18, 22,\n",
       "       30,  5,  9, 15, 14, 25, 32, 11, 16, 26, 27, 31, 34, 21, 23, 28, 29,\n",
       "       33, 35], dtype=int64)"
      ]
     },
     "execution_count": 28,
     "metadata": {},
     "output_type": "execute_result"
    }
   ],
   "source": [
    "np.argsort(o)"
   ]
  },
  {
   "cell_type": "code",
   "execution_count": 29,
   "metadata": {},
   "outputs": [
    {
     "data": {
      "text/plain": [
       "(1, 2, 3, 4)"
      ]
     },
     "execution_count": 29,
     "metadata": {},
     "output_type": "execute_result"
    }
   ],
   "source": [
    "(1,2)+(3,4)"
   ]
  },
  {
   "cell_type": "code",
   "execution_count": null,
   "metadata": {},
   "outputs": [],
   "source": []
  }
 ],
 "metadata": {
  "kernelspec": {
   "display_name": "Python [conda root]",
   "language": "python",
   "name": "conda-root-py"
  },
  "language_info": {
   "codemirror_mode": {
    "name": "ipython",
    "version": 3
   },
   "file_extension": ".py",
   "mimetype": "text/x-python",
   "name": "python",
   "nbconvert_exporter": "python",
   "pygments_lexer": "ipython3",
   "version": "3.6.3"
  }
 },
 "nbformat": 4,
 "nbformat_minor": 2
}
